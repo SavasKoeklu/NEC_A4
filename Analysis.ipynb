{
 "cells": [
  {
   "cell_type": "code",
   "execution_count": 101,
   "metadata": {},
   "outputs": [],
   "source": [
    "import tsplib95\n",
    "import numpy as np\n",
    "import random\n",
    "import tsplib95\n",
    "from typing import List\n",
    "from numpy.random import default_rng\n",
    "from itertools import chain\n",
    "from genetic_algorithm import GeneticAlgorithm\n",
    "\n",
    "p01 = tsplib95.load('datasets/p01.tsp.txt')\n",
    "at48 = tsplib95.load('datasets/att48.tsp.txt')"
   ]
  },
  {
   "cell_type": "markdown",
   "metadata": {},
   "source": [
    "Define help function"
   ]
  },
  {
   "cell_type": "code",
   "execution_count": 95,
   "metadata": {},
   "outputs": [
    {
     "data": {
      "text/plain": [
       "[{'population_size': 1000,\n",
       "  'num_generations': 2000,\n",
       "  'mutation_rate': 0.05,\n",
       "  'elitism_rate': 0.15,\n",
       "  'crossover_rate': 0.9,\n",
       "  'selection_method': 1,\n",
       "  'crossover_method': 1,\n",
       "  'mutation_method': 0},\n",
       " {'population_size': 1000,\n",
       "  'num_generations': 2000,\n",
       "  'mutation_rate': 0.05,\n",
       "  'elitism_rate': 0.15,\n",
       "  'crossover_rate': 0.7,\n",
       "  'selection_method': 1,\n",
       "  'crossover_method': 2,\n",
       "  'mutation_method': 3},\n",
       " {'population_size': 1000,\n",
       "  'num_generations': 2000,\n",
       "  'mutation_rate': 0.1,\n",
       "  'elitism_rate': 0.15,\n",
       "  'crossover_rate': 0.0,\n",
       "  'selection_method': 1,\n",
       "  'crossover_method': 1,\n",
       "  'mutation_method': 2},\n",
       " {'population_size': 1000,\n",
       "  'num_generations': 2000,\n",
       "  'mutation_rate': 0.2,\n",
       "  'elitism_rate': 0.15,\n",
       "  'crossover_rate': 0.0,\n",
       "  'selection_method': 0,\n",
       "  'crossover_method': 0,\n",
       "  'mutation_method': 2},\n",
       " {'population_size': 1000,\n",
       "  'num_generations': 2000,\n",
       "  'mutation_rate': 0.0,\n",
       "  'elitism_rate': 0.15,\n",
       "  'crossover_rate': 0.9,\n",
       "  'selection_method': 1,\n",
       "  'crossover_method': 3,\n",
       "  'mutation_method': 2}]"
      ]
     },
     "execution_count": 95,
     "metadata": {},
     "output_type": "execute_result"
    }
   ],
   "source": [
    "\n",
    "#Generate a list of unique random parameter sets for the TSP problem solved with a genetic algorithm.\n",
    "#Optimal values for mutation and crossover have a higher chance of being selected.\n",
    "def generate_unique_random_tsp_parameters(num_cities, num_sets):\n",
    "\n",
    "    # Determine population size based on the number of cities\n",
    "    population_size = 30 if num_cities < 10 else 1000\n",
    "\n",
    "    # Parameters ranges\n",
    "    num_generations = 2000\n",
    "    elitism_rate = 0.15  # 15%\n",
    "    # Optimal values have a higher probability\n",
    "    mutation_rates = [0, 0.05, 0.1, 0.15, 0.2, 0.5, 0.8]\n",
    "    mutation_rate_probs = [0.1, 0.2, 0.2, 0.2, 0.1, 0.1, 0.1]\n",
    "\n",
    "    crossover_rates = [0, 0.2, 0.5, 0.6, 0.7,0.8,0.9,1] # here is a higher chance to be selected\n",
    "    selection_methods = [0, 1]  # Roulette, Rank Selection\n",
    "    crossover_methods = [0, 1, 2, 3]  # One-point, Two-point, Order, Cyclic\n",
    "    mutation_methods = [0, 1, 2, 3]  # Tower, Inversion, Rotation, Thor's\n",
    "\n",
    "    parameter_sets = set()\n",
    "\n",
    "    while len(parameter_sets) < num_sets:\n",
    "        parameters = (\n",
    "            population_size,\n",
    "            num_generations,\n",
    "            np.random.choice(mutation_rates,p=mutation_rate_probs),\n",
    "            elitism_rate,\n",
    "            np.random.choice(crossover_rates),\n",
    "            np.random.choice(selection_methods),\n",
    "            np.random.choice(crossover_methods),\n",
    "            np.random.choice(mutation_methods)\n",
    "        )\n",
    "        parameter_sets.add(parameters)\n",
    "\n",
    "    # Convert to list of dicts\n",
    "    return [{\"population_size\": p[0], \"num_generations\": p[1], \"mutation_rate\": p[2],\n",
    "             \"elitism_rate\": p[3], \"crossover_rate\": p[4], \"selection_method\": p[5],\n",
    "             \"crossover_method\": p[6], \"mutation_method\": p[7]} for p in parameter_sets]\n",
    "\n",
    "# Example usage to generate 5 unique random parameter sets for a problem with 12 cities\n",
    "unique_random_parameters = generate_unique_random_tsp_parameters(12, 5)\n",
    "unique_random_parameters\n",
    "\n"
   ]
  },
  {
   "cell_type": "code",
   "execution_count": 96,
   "metadata": {},
   "outputs": [],
   "source": [
    "def run_genetic_algorithm_for_different_parameteres(problem, parameters):\n",
    "   \n",
    "   # for each parameter set we run the function 10 times, and take take the worst cost, average and best cost\n",
    "   \n",
    "   for param in parameters:\n",
    "    print(param)\n",
    "    gen = GeneticAlgorithm(problem,\n",
    "                           population_size=param[\"population_size\"], \n",
    "                           elitism=param[\"elitism_rate\"], \n",
    "                           mutation_rate=param[\"mutation_rate\"], \n",
    "                           crossover_rate=param[\"crossover_rate\"],\n",
    "                           selection_method=param[\"selection_method\"],\n",
    "                           crossover_method=param[\"crossover_method\"],\n",
    "                           mutation_method=param[\"mutation_method\"])\n",
    "    \n",
    "    gen.use_genetic_algorithm(param[\"num_generations\"])\n",
    "    print(gen.evolution_of_minimum)\n",
    "\n",
    "    \n",
    "   \n",
    "   \n",
    "   \n",
    "\n",
    "\n"
   ]
  },
  {
   "cell_type": "markdown",
   "metadata": {},
   "source": [
    "# For date set five"
   ]
  },
  {
   "cell_type": "code",
   "execution_count": 97,
   "metadata": {},
   "outputs": [
    {
     "data": {
      "text/plain": [
       "[{'population_size': 30,\n",
       "  'num_generations': 2000,\n",
       "  'mutation_rate': 0.2,\n",
       "  'elitism_rate': 0.15,\n",
       "  'crossover_rate': 0.2,\n",
       "  'selection_method': 1,\n",
       "  'crossover_method': 1,\n",
       "  'mutation_method': 0},\n",
       " {'population_size': 30,\n",
       "  'num_generations': 2000,\n",
       "  'mutation_rate': 0.0,\n",
       "  'elitism_rate': 0.15,\n",
       "  'crossover_rate': 0.2,\n",
       "  'selection_method': 0,\n",
       "  'crossover_method': 1,\n",
       "  'mutation_method': 3},\n",
       " {'population_size': 30,\n",
       "  'num_generations': 2000,\n",
       "  'mutation_rate': 0.1,\n",
       "  'elitism_rate': 0.15,\n",
       "  'crossover_rate': 1.0,\n",
       "  'selection_method': 0,\n",
       "  'crossover_method': 0,\n",
       "  'mutation_method': 0},\n",
       " {'population_size': 30,\n",
       "  'num_generations': 2000,\n",
       "  'mutation_rate': 0.05,\n",
       "  'elitism_rate': 0.15,\n",
       "  'crossover_rate': 0.8,\n",
       "  'selection_method': 1,\n",
       "  'crossover_method': 2,\n",
       "  'mutation_method': 0},\n",
       " {'population_size': 30,\n",
       "  'num_generations': 2000,\n",
       "  'mutation_rate': 0.1,\n",
       "  'elitism_rate': 0.15,\n",
       "  'crossover_rate': 0.9,\n",
       "  'selection_method': 1,\n",
       "  'crossover_method': 3,\n",
       "  'mutation_method': 0},\n",
       " {'population_size': 30,\n",
       "  'num_generations': 2000,\n",
       "  'mutation_rate': 0.8,\n",
       "  'elitism_rate': 0.15,\n",
       "  'crossover_rate': 0.8,\n",
       "  'selection_method': 0,\n",
       "  'crossover_method': 1,\n",
       "  'mutation_method': 3}]"
      ]
     },
     "execution_count": 97,
     "metadata": {},
     "output_type": "execute_result"
    }
   ],
   "source": [
    "# function to ouput\n",
    "five = tsplib95.load('datasets/five.tsp')\n",
    "parameters = generate_unique_random_tsp_parameters(five.dimension, 6)\n",
    "parameters"
   ]
  },
  {
   "cell_type": "code",
   "execution_count": 102,
   "metadata": {},
   "outputs": [
    {
     "name": "stdout",
     "output_type": "stream",
     "text": [
      "{'population_size': 30, 'num_generations': 2000, 'mutation_rate': 0.2, 'elitism_rate': 0.15, 'crossover_rate': 0.2, 'selection_method': 1, 'crossover_method': 1, 'mutation_method': 0}\n",
      "Generation 0. New best distance: 523\n",
      "Generation 4. New best distance: 514\n",
      "Generation 6. New best distance: 492\n",
      "Generation 8. New best distance: 485\n",
      "Generation 10. New best distance: 476\n",
      "Generation 12. New best distance: 466\n",
      "Generation 21. New best distance: 463\n",
      "Generation 23. New best distance: 448\n",
      "Generation 32. New best distance: 435\n",
      "Stopping on generation 53 because of no improvement\n",
      "<bound method GeneticAlgorithm.evolution_of_minimum of <genetic_algorithm.GeneticAlgorithm object at 0x000001BC36980E50>>\n",
      "{'population_size': 30, 'num_generations': 2000, 'mutation_rate': 0.0, 'elitism_rate': 0.15, 'crossover_rate': 0.2, 'selection_method': 0, 'crossover_method': 1, 'mutation_method': 3}\n",
      "Generation 0. New best distance: 555\n",
      "Generation 1. New best distance: 552\n",
      "Generation 4. New best distance: 506\n",
      "Generation 10. New best distance: 497\n"
     ]
    },
    {
     "ename": "ValueError",
     "evalue": "probabilities do not sum to 1",
     "output_type": "error",
     "traceback": [
      "\u001b[1;31m---------------------------------------------------------------------------\u001b[0m",
      "\u001b[1;31mValueError\u001b[0m                                Traceback (most recent call last)",
      "Cell \u001b[1;32mIn[102], line 2\u001b[0m\n\u001b[0;32m      1\u001b[0m \u001b[38;5;66;03m# the parameters look good\u001b[39;00m\n\u001b[1;32m----> 2\u001b[0m \u001b[43mrun_genetic_algorithm_for_different_parameteres\u001b[49m\u001b[43m(\u001b[49m\u001b[43mp01\u001b[49m\u001b[43m,\u001b[49m\u001b[43mparameters\u001b[49m\u001b[43m)\u001b[49m\n",
      "Cell \u001b[1;32mIn[96], line 16\u001b[0m, in \u001b[0;36mrun_genetic_algorithm_for_different_parameteres\u001b[1;34m(problem, parameters)\u001b[0m\n\u001b[0;32m      6\u001b[0m \u001b[38;5;28mprint\u001b[39m(param)\n\u001b[0;32m      7\u001b[0m gen \u001b[38;5;241m=\u001b[39m GeneticAlgorithm(problem,\n\u001b[0;32m      8\u001b[0m                        population_size\u001b[38;5;241m=\u001b[39mparam[\u001b[38;5;124m\"\u001b[39m\u001b[38;5;124mpopulation_size\u001b[39m\u001b[38;5;124m\"\u001b[39m], \n\u001b[0;32m      9\u001b[0m                        elitism\u001b[38;5;241m=\u001b[39mparam[\u001b[38;5;124m\"\u001b[39m\u001b[38;5;124melitism_rate\u001b[39m\u001b[38;5;124m\"\u001b[39m], \n\u001b[1;32m   (...)\u001b[0m\n\u001b[0;32m     13\u001b[0m                        crossover_method\u001b[38;5;241m=\u001b[39mparam[\u001b[38;5;124m\"\u001b[39m\u001b[38;5;124mcrossover_method\u001b[39m\u001b[38;5;124m\"\u001b[39m],\n\u001b[0;32m     14\u001b[0m                        mutation_method\u001b[38;5;241m=\u001b[39mparam[\u001b[38;5;124m\"\u001b[39m\u001b[38;5;124mmutation_method\u001b[39m\u001b[38;5;124m\"\u001b[39m])\n\u001b[1;32m---> 16\u001b[0m \u001b[43mgen\u001b[49m\u001b[38;5;241;43m.\u001b[39;49m\u001b[43muse_genetic_algorithm\u001b[49m\u001b[43m(\u001b[49m\u001b[43mparam\u001b[49m\u001b[43m[\u001b[49m\u001b[38;5;124;43m\"\u001b[39;49m\u001b[38;5;124;43mnum_generations\u001b[39;49m\u001b[38;5;124;43m\"\u001b[39;49m\u001b[43m]\u001b[49m\u001b[43m)\u001b[49m\n\u001b[0;32m     17\u001b[0m \u001b[38;5;28mprint\u001b[39m(gen\u001b[38;5;241m.\u001b[39mevolution_of_minimum)\n",
      "File \u001b[1;32mc:\\Users\\savas\\Documents\\RWth\\ersters-Master-Semester_URV\\NEC\\A4\\NEC_A4\\genetic_algorithm.py:114\u001b[0m, in \u001b[0;36mGeneticAlgorithm.use_genetic_algorithm\u001b[1;34m(self, max_generations)\u001b[0m\n\u001b[0;32m    110\u001b[0m non_improving_generations \u001b[38;5;241m=\u001b[39m \u001b[38;5;241m0\u001b[39m\n\u001b[0;32m    112\u001b[0m \u001b[38;5;28;01mfor\u001b[39;00m generation \u001b[38;5;129;01min\u001b[39;00m \u001b[38;5;28mrange\u001b[39m(max_generations):\n\u001b[1;32m--> 114\u001b[0m     new_population \u001b[38;5;241m=\u001b[39m \u001b[38;5;28;43mself\u001b[39;49m\u001b[38;5;241;43m.\u001b[39;49m\u001b[43mperform_selection_crossover\u001b[49m\u001b[43m(\u001b[49m\u001b[43m)\u001b[49m\n\u001b[0;32m    115\u001b[0m     \u001b[38;5;28mself\u001b[39m\u001b[38;5;241m.\u001b[39mperform_mutations(new_population)\n\u001b[0;32m    116\u001b[0m     \u001b[38;5;66;03m# The number of best parents automatically go to the next population\u001b[39;00m\n",
      "File \u001b[1;32mc:\\Users\\savas\\Documents\\RWth\\ersters-Master-Semester_URV\\NEC\\A4\\NEC_A4\\genetic_algorithm.py:145\u001b[0m, in \u001b[0;36mGeneticAlgorithm.perform_selection_crossover\u001b[1;34m(self)\u001b[0m\n\u001b[0;32m    143\u001b[0m children \u001b[38;5;241m=\u001b[39m []\n\u001b[0;32m    144\u001b[0m \u001b[38;5;28;01mfor\u001b[39;00m i \u001b[38;5;129;01min\u001b[39;00m \u001b[38;5;28mrange\u001b[39m((\u001b[38;5;28mself\u001b[39m\u001b[38;5;241m.\u001b[39mpopulation_size \u001b[38;5;241m-\u001b[39m \u001b[38;5;28mself\u001b[39m\u001b[38;5;241m.\u001b[39msurviving) \u001b[38;5;241m/\u001b[39m\u001b[38;5;241m/\u001b[39m \u001b[38;5;241m2\u001b[39m):\n\u001b[1;32m--> 145\u001b[0m     chr1,chr2 \u001b[38;5;241m=\u001b[39m \u001b[38;5;28;43mself\u001b[39;49m\u001b[38;5;241;43m.\u001b[39;49m\u001b[43mselection_method\u001b[49m\u001b[43m(\u001b[49m\u001b[38;5;241;43m2\u001b[39;49m\u001b[43m)\u001b[49m\n\u001b[0;32m    146\u001b[0m     \u001b[38;5;28;01mif\u001b[39;00m random\u001b[38;5;241m.\u001b[39mrandom() \u001b[38;5;241m>\u001b[39m \u001b[38;5;28mself\u001b[39m\u001b[38;5;241m.\u001b[39mcrossover_rate:\n\u001b[0;32m    147\u001b[0m         children\u001b[38;5;241m.\u001b[39mappend(chr1)\n",
      "File \u001b[1;32mc:\\Users\\savas\\Documents\\RWth\\ersters-Master-Semester_URV\\NEC\\A4\\NEC_A4\\genetic_algorithm.py:201\u001b[0m, in \u001b[0;36mGeneticAlgorithm.roulette_selection\u001b[1;34m(self, count)\u001b[0m\n\u001b[0;32m    195\u001b[0m \u001b[38;5;28;01mdef\u001b[39;00m \u001b[38;5;21mroulette_selection\u001b[39m(\u001b[38;5;28mself\u001b[39m, count\u001b[38;5;241m=\u001b[39m\u001b[38;5;241m1\u001b[39m):\n\u001b[0;32m    196\u001b[0m     \u001b[38;5;66;03m# requirements:\u001b[39;00m\n\u001b[0;32m    197\u001b[0m     \u001b[38;5;66;03m# select probabilites after fitness of chromosome\u001b[39;00m\n\u001b[0;32m    198\u001b[0m     \u001b[38;5;66;03m# non negative fitness\u001b[39;00m\n\u001b[0;32m    199\u001b[0m \n\u001b[0;32m    200\u001b[0m     \u001b[38;5;66;03m# choose one regarding probabilities\u001b[39;00m\n\u001b[1;32m--> 201\u001b[0m     \u001b[38;5;28;01mreturn\u001b[39;00m \u001b[38;5;28mlist\u001b[39m(np\u001b[38;5;241m.\u001b[39mrandom\u001b[38;5;241m.\u001b[39mchoice(\u001b[38;5;28mself\u001b[39m\u001b[38;5;241m.\u001b[39mcurrent_population, count, p\u001b[38;5;241m=\u001b[39m\u001b[38;5;28mself\u001b[39m\u001b[38;5;241m.\u001b[39mfitness_probabilities))\n",
      "File \u001b[1;32mnumpy\\\\random\\\\mtrand.pyx:974\u001b[0m, in \u001b[0;36mnumpy.random.mtrand.RandomState.choice\u001b[1;34m()\u001b[0m\n",
      "\u001b[1;31mValueError\u001b[0m: probabilities do not sum to 1"
     ]
    }
   ],
   "source": [
    "# the parameters look good\n",
    "run_genetic_algorithm_for_different_parameteres(p01,parameters)\n"
   ]
  },
  {
   "cell_type": "code",
   "execution_count": 99,
   "metadata": {},
   "outputs": [
    {
     "ename": "KeyError",
     "evalue": "3",
     "output_type": "error",
     "traceback": [
      "\u001b[1;31m---------------------------------------------------------------------------\u001b[0m",
      "\u001b[1;31mKeyError\u001b[0m                                  Traceback (most recent call last)",
      "Cell \u001b[1;32mIn[99], line 3\u001b[0m\n\u001b[0;32m      1\u001b[0m \u001b[38;5;28;01mfrom\u001b[39;00m \u001b[38;5;21;01mgenetic_algorithm\u001b[39;00m \u001b[38;5;28;01mimport\u001b[39;00m GeneticAlgorithm\n\u001b[1;32m----> 3\u001b[0m Alg \u001b[38;5;241m=\u001b[39m \u001b[43mGeneticAlgorithm\u001b[49m\u001b[43m(\u001b[49m\u001b[43mfive\u001b[49m\u001b[43m,\u001b[49m\u001b[43m \u001b[49m\u001b[38;5;241;43m11\u001b[39;49m\u001b[43m,\u001b[49m\u001b[38;5;241;43m0.3\u001b[39;49m\u001b[43m,\u001b[49m\u001b[38;5;241;43m0.2\u001b[39;49m\u001b[43m,\u001b[49m\u001b[38;5;241;43m1\u001b[39;49m\u001b[43m,\u001b[49m\u001b[38;5;241;43m3\u001b[39;49m\u001b[43m,\u001b[49m\u001b[38;5;241;43m3\u001b[39;49m\u001b[43m)\u001b[49m\n\u001b[0;32m      5\u001b[0m Alg\u001b[38;5;241m.\u001b[39muse_genetic_algorithm(\u001b[38;5;241m100\u001b[39m)\n\u001b[0;32m      7\u001b[0m \u001b[38;5;28mprint\u001b[39m(Alg\u001b[38;5;241m.\u001b[39mevolution_of_minimum())\n",
      "File \u001b[1;32mc:\\Users\\savas\\Documents\\RWth\\ersters-Master-Semester_URV\\NEC\\A4\\NEC_A4\\genetic_algorithm.py:42\u001b[0m, in \u001b[0;36mGeneticAlgorithm.__init__\u001b[1;34m(self, problem, population_size, mutation_rate, elitism, crossover_rate, selection_method, crossover_method, mutation_method)\u001b[0m\n\u001b[0;32m     40\u001b[0m \u001b[38;5;28mself\u001b[39m\u001b[38;5;241m.\u001b[39mmutation_rate \u001b[38;5;241m=\u001b[39m mutation_rate\n\u001b[0;32m     41\u001b[0m \u001b[38;5;28mself\u001b[39m\u001b[38;5;241m.\u001b[39msurviving \u001b[38;5;241m=\u001b[39m \u001b[38;5;28mint\u001b[39m(elitism \u001b[38;5;241m*\u001b[39m population_size)\n\u001b[1;32m---> 42\u001b[0m \u001b[38;5;28mself\u001b[39m\u001b[38;5;241m.\u001b[39mselection_method \u001b[38;5;241m=\u001b[39m \u001b[38;5;28;43mself\u001b[39;49m\u001b[38;5;241;43m.\u001b[39;49m\u001b[43mselect_selection\u001b[49m\u001b[43m(\u001b[49m\u001b[43mselection_method\u001b[49m\u001b[43m)\u001b[49m\n\u001b[0;32m     43\u001b[0m \u001b[38;5;28mself\u001b[39m\u001b[38;5;241m.\u001b[39mcrossover_method \u001b[38;5;241m=\u001b[39m \u001b[38;5;28mself\u001b[39m\u001b[38;5;241m.\u001b[39mselect_crossover(crossover_method)\n\u001b[0;32m     44\u001b[0m \u001b[38;5;28mself\u001b[39m\u001b[38;5;241m.\u001b[39mmutation_method \u001b[38;5;241m=\u001b[39m \u001b[38;5;28mself\u001b[39m\u001b[38;5;241m.\u001b[39mselect_mutation(mutation_method)\n",
      "File \u001b[1;32mc:\\Users\\savas\\Documents\\RWth\\ersters-Master-Semester_URV\\NEC\\A4\\NEC_A4\\genetic_algorithm.py:64\u001b[0m, in \u001b[0;36mGeneticAlgorithm.select_selection\u001b[1;34m(self, index_for_selection)\u001b[0m\n\u001b[0;32m     58\u001b[0m \u001b[38;5;28;01mdef\u001b[39;00m \u001b[38;5;21mselect_selection\u001b[39m(\u001b[38;5;28mself\u001b[39m, index_for_selection):\n\u001b[0;32m     59\u001b[0m     \u001b[38;5;28mself\u001b[39m\u001b[38;5;241m.\u001b[39mselection_functions \u001b[38;5;241m=\u001b[39m {\n\u001b[0;32m     60\u001b[0m         \u001b[38;5;241m0\u001b[39m : \u001b[38;5;28mself\u001b[39m\u001b[38;5;241m.\u001b[39mroulette_selection,\n\u001b[0;32m     61\u001b[0m         \u001b[38;5;241m1\u001b[39m: \u001b[38;5;28mself\u001b[39m\u001b[38;5;241m.\u001b[39mrank_selection\n\u001b[0;32m     62\u001b[0m     }\n\u001b[1;32m---> 64\u001b[0m     \u001b[38;5;28;01mreturn\u001b[39;00m \u001b[38;5;28;43mself\u001b[39;49m\u001b[38;5;241;43m.\u001b[39;49m\u001b[43mselection_functions\u001b[49m\u001b[43m[\u001b[49m\u001b[43mindex_for_selection\u001b[49m\u001b[43m]\u001b[49m\n",
      "\u001b[1;31mKeyError\u001b[0m: 3"
     ]
    }
   ],
   "source": [
    "from genetic_algorithm import GeneticAlgorithm\n",
    "\n",
    "Alg = GeneticAlgorithm(five, 11,0.3,0.2,1,3,3)\n",
    "\n",
    "Alg.use_genetic_algorithm(100)\n",
    "\n",
    "print(Alg.evolution_of_minimum())"
   ]
  },
  {
   "cell_type": "code",
   "execution_count": null,
   "metadata": {},
   "outputs": [],
   "source": []
  }
 ],
 "metadata": {
  "kernelspec": {
   "display_name": "Python 3",
   "language": "python",
   "name": "python3"
  },
  "language_info": {
   "codemirror_mode": {
    "name": "ipython",
    "version": 3
   },
   "file_extension": ".py",
   "mimetype": "text/x-python",
   "name": "python",
   "nbconvert_exporter": "python",
   "pygments_lexer": "ipython3",
   "version": "3.11.7"
  }
 },
 "nbformat": 4,
 "nbformat_minor": 2
}
