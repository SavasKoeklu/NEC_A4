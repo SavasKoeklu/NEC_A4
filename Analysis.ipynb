{
 "cells": [
  {
   "cell_type": "code",
   "execution_count": 8,
   "metadata": {},
   "outputs": [],
   "source": [
    "import tsplib95\n",
    "import numpy as np\n",
    "import random\n",
    "import tsplib95\n",
    "from typing import List\n",
    "from numpy.random import default_rng\n",
    "from itertools import chain\n",
    "from genetic_algorithm import GeneticAlgorithm\n",
    "import matplotlib.pyplot as plt\n",
    "\n",
    "p01 = tsplib95.load('datasets/p01.tsp.txt')\n",
    "at48 = tsplib95.load('datasets/att48.tsp.txt')"
   ]
  },
  {
   "cell_type": "markdown",
   "metadata": {},
   "source": [
    "Define help function"
   ]
  },
  {
   "cell_type": "code",
   "execution_count": 18,
   "metadata": {},
   "outputs": [
    {
     "data": {
      "text/plain": "[{'population_size': 400,\n  'num_generations': 2000,\n  'mutation_rate': 0.1,\n  'elitism_rate': 0.15,\n  'crossover_rate': 0.6,\n  'selection_method': 1,\n  'crossover_method': 0,\n  'mutation_method': 0},\n {'population_size': 400,\n  'num_generations': 2000,\n  'mutation_rate': 0.15,\n  'elitism_rate': 0.15,\n  'crossover_rate': 0.6,\n  'selection_method': 0,\n  'crossover_method': 1,\n  'mutation_method': 0},\n {'population_size': 400,\n  'num_generations': 2000,\n  'mutation_rate': 0.8,\n  'elitism_rate': 0.15,\n  'crossover_rate': 0.9,\n  'selection_method': 1,\n  'crossover_method': 0,\n  'mutation_method': 0},\n {'population_size': 400,\n  'num_generations': 2000,\n  'mutation_rate': 0.2,\n  'elitism_rate': 0.15,\n  'crossover_rate': 0.0,\n  'selection_method': 1,\n  'crossover_method': 0,\n  'mutation_method': 1},\n {'population_size': 400,\n  'num_generations': 2000,\n  'mutation_rate': 0.0,\n  'elitism_rate': 0.15,\n  'crossover_rate': 0.5,\n  'selection_method': 0,\n  'crossover_method': 1,\n  'mutation_method': 3}]"
     },
     "execution_count": 18,
     "metadata": {},
     "output_type": "execute_result"
    }
   ],
   "source": [
    "\n",
    "#Generate a list of unique random parameter sets for the TSP problem solved with a genetic algorithm.\n",
    "#Optimal values for mutation and crossover have a higher chance of being selected.\n",
    "def generate_unique_random_tsp_parameters(num_cities, num_sets):\n",
    "\n",
    "    # Determine population size based on the number of cities\n",
    "    population_size = 5 if num_cities < 10 else 1000\n",
    "\n",
    "    if num_cities > 10:\n",
    "        population_size = 400\n",
    "    elif num_cities > 5:\n",
    "        population_size = 30\n",
    "    else:\n",
    "        population_size = 6\n",
    "\n",
    "\n",
    "    # Parameters ranges\n",
    "    num_generations = 2000\n",
    "    elitism_rate = 0.15  # 15%\n",
    "    # Optimal values have a higher probability\n",
    "    mutation_rates = [0, 0.05, 0.1, 0.15, 0.2, 0.5, 0.8]\n",
    "    mutation_rate_probs = [0.1, 0.2, 0.2, 0.2, 0.1, 0.1, 0.1]\n",
    "\n",
    "    crossover_rates = [0, 0.2, 0.5, 0.6, 0.7,0.8,0.9,1] # here is a higher chance to be selected\n",
    "    selection_methods = [0, 1]  # Roulette, Rank Selection\n",
    "    crossover_methods = [0, 1, 2, 3]  # One-point, Two-point, Order, Cyclic\n",
    "    mutation_methods = [0, 1, 2, 3]  # Tower, Inversion, Rotation, Thor's\n",
    "\n",
    "    parameter_sets = set()\n",
    "\n",
    "    while len(parameter_sets) < num_sets:\n",
    "        parameters = (\n",
    "            population_size,\n",
    "            num_generations,\n",
    "            np.random.choice(mutation_rates,p=mutation_rate_probs),\n",
    "            elitism_rate,\n",
    "            np.random.choice(crossover_rates),\n",
    "            np.random.choice(selection_methods),\n",
    "            np.random.choice(crossover_methods),\n",
    "            np.random.choice(mutation_methods)\n",
    "        )\n",
    "        parameter_sets.add(parameters)\n",
    "\n",
    "    # Convert to list of dicts\n",
    "    return [{\"population_size\": p[0], \"num_generations\": p[1], \"mutation_rate\": p[2],\n",
    "             \"elitism_rate\": p[3], \"crossover_rate\": p[4], \"selection_method\": p[5],\n",
    "             \"crossover_method\": p[6], \"mutation_method\": p[7]} for p in parameter_sets]\n",
    "\n",
    "# Example usage to generate 5 unique random parameter sets for a problem with 12 cities\n",
    "unique_random_parameters = generate_unique_random_tsp_parameters(12, 5)\n",
    "unique_random_parameters\n",
    "\n"
   ]
  },
  {
   "cell_type": "code",
   "execution_count": 14,
   "metadata": {},
   "outputs": [],
   "source": [
    "def run_genetic_algorithm_for_different_parameteres(problem, parameters):\n",
    "   \n",
    "   # for each parameter set we run the function 10 times, and take take the worst cost, average and best cost\n",
    "    evolution_of_minimum = []\n",
    "    best_tour_length = float(\"inf\")\n",
    "    for param in parameters:\n",
    "        print(param)\n",
    "        tour_minimas = []\n",
    "\n",
    "\n",
    "        for i in range(10):\n",
    "\n",
    "          gen = GeneticAlgorithm(problem,\n",
    "                               population_size=param[\"population_size\"],\n",
    "                               elitism=param[\"elitism_rate\"],\n",
    "                               mutation_rate=param[\"mutation_rate\"],\n",
    "                               crossover_rate=param[\"crossover_rate\"],\n",
    "                               selection_method=param[\"selection_method\"],\n",
    "                               crossover_method=param[\"crossover_method\"],\n",
    "                               mutation_method=param[\"mutation_method\"],\n",
    "                                 silent=True)\n",
    "\n",
    "          gen.use_genetic_algorithm(param[\"num_generations\"])\n",
    "          ev = gen.evolution_of_minimum()\n",
    "          tour_minimas.append(min(ev))\n",
    "\n",
    "          if tour_minimas[-1] < best_tour_length:\n",
    "            best_tour_length = tour_minimas[-1]\n",
    "            evolution_of_minimum = ev\n",
    "\n",
    "        print(np.min(tour_minimas), np.mean(tour_minimas), np.max(tour_minimas))\n",
    "\n",
    "\n",
    "    plt.plot(list(range(1, len(evolution_of_minimum) + 1)), evolution_of_minimum)\n",
    "\n",
    "   # calc average, wrost and best\n",
    "   #TODO: continue here\n",
    "   #average = average(tour_minimas)\n"
   ]
  },
  {
   "cell_type": "markdown",
   "metadata": {},
   "source": [
    "# For date set five"
   ]
  },
  {
   "cell_type": "code",
   "execution_count": 16,
   "metadata": {},
   "outputs": [
    {
     "data": {
      "text/plain": "[{'population_size': 1000,\n  'num_generations': 2000,\n  'mutation_rate': 0.0,\n  'elitism_rate': 0.15,\n  'crossover_rate': 0.5,\n  'selection_method': 0,\n  'crossover_method': 1,\n  'mutation_method': 1},\n {'population_size': 1000,\n  'num_generations': 2000,\n  'mutation_rate': 0.1,\n  'elitism_rate': 0.15,\n  'crossover_rate': 0.5,\n  'selection_method': 1,\n  'crossover_method': 3,\n  'mutation_method': 1},\n {'population_size': 1000,\n  'num_generations': 2000,\n  'mutation_rate': 0.05,\n  'elitism_rate': 0.15,\n  'crossover_rate': 0.9,\n  'selection_method': 1,\n  'crossover_method': 2,\n  'mutation_method': 2},\n {'population_size': 1000,\n  'num_generations': 2000,\n  'mutation_rate': 0.15,\n  'elitism_rate': 0.15,\n  'crossover_rate': 0.6,\n  'selection_method': 1,\n  'crossover_method': 2,\n  'mutation_method': 1},\n {'population_size': 1000,\n  'num_generations': 2000,\n  'mutation_rate': 0.1,\n  'elitism_rate': 0.15,\n  'crossover_rate': 0.6,\n  'selection_method': 1,\n  'crossover_method': 0,\n  'mutation_method': 2},\n {'population_size': 1000,\n  'num_generations': 2000,\n  'mutation_rate': 0.1,\n  'elitism_rate': 0.15,\n  'crossover_rate': 0.9,\n  'selection_method': 1,\n  'crossover_method': 3,\n  'mutation_method': 0}]"
     },
     "execution_count": 16,
     "metadata": {},
     "output_type": "execute_result"
    }
   ],
   "source": [
    "# function to ouput\n",
    "fri = tsplib95.load('datasets/fri26.tsp')\n",
    "parameters = generate_unique_random_tsp_parameters(fri.dimension, 6)\n",
    "parameters"
   ]
  },
  {
   "cell_type": "code",
   "execution_count": 17,
   "metadata": {},
   "outputs": [
    {
     "name": "stdout",
     "output_type": "stream",
     "text": [
      "{'population_size': 1000, 'num_generations': 2000, 'mutation_rate': 0.0, 'elitism_rate': 0.15, 'crossover_rate': 0.5, 'selection_method': 0, 'crossover_method': 1, 'mutation_method': 1}\n"
     ]
    },
    {
     "ename": "KeyboardInterrupt",
     "evalue": "",
     "output_type": "error",
     "traceback": [
      "\u001B[0;31m---------------------------------------------------------------------------\u001B[0m",
      "\u001B[0;31mKeyboardInterrupt\u001B[0m                         Traceback (most recent call last)",
      "\u001B[0;32m/tmp/ipykernel_164187/2433704138.py\u001B[0m in \u001B[0;36m<module>\u001B[0;34m\u001B[0m\n\u001B[1;32m      1\u001B[0m \u001B[0;31m# the parameters look good\u001B[0m\u001B[0;34m\u001B[0m\u001B[0;34m\u001B[0m\u001B[0;34m\u001B[0m\u001B[0m\n\u001B[0;32m----> 2\u001B[0;31m \u001B[0mrun_genetic_algorithm_for_different_parameteres\u001B[0m\u001B[0;34m(\u001B[0m\u001B[0mfri\u001B[0m\u001B[0;34m,\u001B[0m\u001B[0mparameters\u001B[0m\u001B[0;34m)\u001B[0m\u001B[0;34m\u001B[0m\u001B[0;34m\u001B[0m\u001B[0m\n\u001B[0m\u001B[1;32m      3\u001B[0m \u001B[0;34m\u001B[0m\u001B[0m\n",
      "\u001B[0;32m/tmp/ipykernel_164187/1556987543.py\u001B[0m in \u001B[0;36mrun_genetic_algorithm_for_different_parameteres\u001B[0;34m(problem, parameters)\u001B[0m\n\u001B[1;32m     21\u001B[0m                                  silent=True)\n\u001B[1;32m     22\u001B[0m \u001B[0;34m\u001B[0m\u001B[0m\n\u001B[0;32m---> 23\u001B[0;31m           \u001B[0mgen\u001B[0m\u001B[0;34m.\u001B[0m\u001B[0muse_genetic_algorithm\u001B[0m\u001B[0;34m(\u001B[0m\u001B[0mparam\u001B[0m\u001B[0;34m[\u001B[0m\u001B[0;34m\"num_generations\"\u001B[0m\u001B[0;34m]\u001B[0m\u001B[0;34m)\u001B[0m\u001B[0;34m\u001B[0m\u001B[0;34m\u001B[0m\u001B[0m\n\u001B[0m\u001B[1;32m     24\u001B[0m           \u001B[0mev\u001B[0m \u001B[0;34m=\u001B[0m \u001B[0mgen\u001B[0m\u001B[0;34m.\u001B[0m\u001B[0mevolution_of_minimum\u001B[0m\u001B[0;34m(\u001B[0m\u001B[0;34m)\u001B[0m\u001B[0;34m\u001B[0m\u001B[0;34m\u001B[0m\u001B[0m\n\u001B[1;32m     25\u001B[0m           \u001B[0mtour_minimas\u001B[0m\u001B[0;34m.\u001B[0m\u001B[0mappend\u001B[0m\u001B[0;34m(\u001B[0m\u001B[0mmin\u001B[0m\u001B[0;34m(\u001B[0m\u001B[0mev\u001B[0m\u001B[0;34m)\u001B[0m\u001B[0;34m)\u001B[0m\u001B[0;34m\u001B[0m\u001B[0;34m\u001B[0m\u001B[0m\n",
      "\u001B[0;32m~/URV/NEC/NEC_A4/genetic_algorithm.py\u001B[0m in \u001B[0;36muse_genetic_algorithm\u001B[0;34m(self, max_generations)\u001B[0m\n\u001B[1;32m    117\u001B[0m         \u001B[0;32mfor\u001B[0m \u001B[0mself\u001B[0m\u001B[0;34m.\u001B[0m\u001B[0mgeneration\u001B[0m \u001B[0;32min\u001B[0m \u001B[0mrange\u001B[0m\u001B[0;34m(\u001B[0m\u001B[0mmax_generations\u001B[0m\u001B[0;34m)\u001B[0m\u001B[0;34m:\u001B[0m\u001B[0;34m\u001B[0m\u001B[0;34m\u001B[0m\u001B[0m\n\u001B[1;32m    118\u001B[0m             \u001B[0mnew_population\u001B[0m \u001B[0;34m=\u001B[0m \u001B[0mself\u001B[0m\u001B[0;34m.\u001B[0m\u001B[0mperform_selection_crossover\u001B[0m\u001B[0;34m(\u001B[0m\u001B[0;34m)\u001B[0m\u001B[0;34m\u001B[0m\u001B[0;34m\u001B[0m\u001B[0m\n\u001B[0;32m--> 119\u001B[0;31m             \u001B[0mself\u001B[0m\u001B[0;34m.\u001B[0m\u001B[0mperform_mutations\u001B[0m\u001B[0;34m(\u001B[0m\u001B[0mnew_population\u001B[0m\u001B[0;34m)\u001B[0m\u001B[0;34m\u001B[0m\u001B[0;34m\u001B[0m\u001B[0m\n\u001B[0m\u001B[1;32m    120\u001B[0m             \u001B[0;31m# The number of best parents automatically go to the next population\u001B[0m\u001B[0;34m\u001B[0m\u001B[0;34m\u001B[0m\u001B[0;34m\u001B[0m\u001B[0m\n\u001B[1;32m    121\u001B[0m             \u001B[0mnew_population\u001B[0m \u001B[0;34m+=\u001B[0m \u001B[0mself\u001B[0m\u001B[0;34m.\u001B[0m\u001B[0mcurrent_population\u001B[0m\u001B[0;34m[\u001B[0m\u001B[0;34m:\u001B[0m\u001B[0mself\u001B[0m\u001B[0;34m.\u001B[0m\u001B[0msurviving\u001B[0m\u001B[0;34m]\u001B[0m\u001B[0;34m\u001B[0m\u001B[0;34m\u001B[0m\u001B[0m\n",
      "\u001B[0;32m~/URV/NEC/NEC_A4/genetic_algorithm.py\u001B[0m in \u001B[0;36mperform_selection_crossover\u001B[0;34m(self)\u001B[0m\n\u001B[1;32m    151\u001B[0m         \u001B[0;32mfor\u001B[0m \u001B[0mi\u001B[0m \u001B[0;32min\u001B[0m \u001B[0mrange\u001B[0m\u001B[0;34m(\u001B[0m\u001B[0;34m(\u001B[0m\u001B[0mself\u001B[0m\u001B[0;34m.\u001B[0m\u001B[0mpopulation_size\u001B[0m \u001B[0;34m-\u001B[0m \u001B[0mself\u001B[0m\u001B[0;34m.\u001B[0m\u001B[0msurviving\u001B[0m\u001B[0;34m)\u001B[0m \u001B[0;34m//\u001B[0m \u001B[0;36m2\u001B[0m\u001B[0;34m)\u001B[0m\u001B[0;34m:\u001B[0m\u001B[0;34m\u001B[0m\u001B[0;34m\u001B[0m\u001B[0m\n\u001B[1;32m    152\u001B[0m             \u001B[0mchr1\u001B[0m\u001B[0;34m,\u001B[0m \u001B[0mchr2\u001B[0m \u001B[0;34m=\u001B[0m \u001B[0mself\u001B[0m\u001B[0;34m.\u001B[0m\u001B[0mselection_method\u001B[0m\u001B[0;34m(\u001B[0m\u001B[0;36m2\u001B[0m\u001B[0;34m)\u001B[0m\u001B[0;34m\u001B[0m\u001B[0;34m\u001B[0m\u001B[0m\n\u001B[0;32m--> 153\u001B[0;31m             \u001B[0mchildren\u001B[0m \u001B[0;34m+=\u001B[0m \u001B[0mself\u001B[0m\u001B[0;34m.\u001B[0m\u001B[0mcrossover_method\u001B[0m\u001B[0;34m(\u001B[0m\u001B[0mchr1\u001B[0m\u001B[0;34m,\u001B[0m \u001B[0mchr2\u001B[0m\u001B[0;34m)\u001B[0m\u001B[0;34m\u001B[0m\u001B[0;34m\u001B[0m\u001B[0m\n\u001B[0m\u001B[1;32m    154\u001B[0m \u001B[0;34m\u001B[0m\u001B[0m\n\u001B[1;32m    155\u001B[0m         \u001B[0;32mreturn\u001B[0m \u001B[0mchildren\u001B[0m\u001B[0;34m\u001B[0m\u001B[0;34m\u001B[0m\u001B[0m\n",
      "\u001B[0;32m~/URV/NEC/NEC_A4/genetic_algorithm.py\u001B[0m in \u001B[0;36mroulette_selection\u001B[0;34m(self, count)\u001B[0m\n\u001B[1;32m    210\u001B[0m         \u001B[0;31m# requirements\u001B[0m\u001B[0;34m\u001B[0m\u001B[0;34m\u001B[0m\u001B[0;34m\u001B[0m\u001B[0m\n\u001B[1;32m    211\u001B[0m         \u001B[0;31m# Assign ranks by sorting individuals by increasing fitness\u001B[0m\u001B[0;34m\u001B[0m\u001B[0;34m\u001B[0m\u001B[0;34m\u001B[0m\u001B[0m\n\u001B[0;32m--> 212\u001B[0;31m         \u001B[0;31m# Probability of selection proportional to rank\u001B[0m\u001B[0;34m\u001B[0m\u001B[0;34m\u001B[0m\u001B[0;34m\u001B[0m\u001B[0m\n\u001B[0m\u001B[1;32m    213\u001B[0m \u001B[0;34m\u001B[0m\u001B[0m\n\u001B[1;32m    214\u001B[0m         \u001B[0;32mreturn\u001B[0m \u001B[0mlist\u001B[0m\u001B[0;34m(\u001B[0m\u001B[0mnp\u001B[0m\u001B[0;34m.\u001B[0m\u001B[0mrandom\u001B[0m\u001B[0;34m.\u001B[0m\u001B[0mchoice\u001B[0m\u001B[0;34m(\u001B[0m\u001B[0mself\u001B[0m\u001B[0;34m.\u001B[0m\u001B[0mcurrent_population\u001B[0m\u001B[0;34m,\u001B[0m \u001B[0mcount\u001B[0m\u001B[0;34m,\u001B[0m \u001B[0mp\u001B[0m\u001B[0;34m=\u001B[0m\u001B[0mself\u001B[0m\u001B[0;34m.\u001B[0m\u001B[0mranked_probabilities\u001B[0m\u001B[0;34m)\u001B[0m\u001B[0;34m)\u001B[0m\u001B[0;34m\u001B[0m\u001B[0;34m\u001B[0m\u001B[0m\n",
      "\u001B[0;32mmtrand.pyx\u001B[0m in \u001B[0;36mnumpy.random.mtrand.RandomState.choice\u001B[0;34m()\u001B[0m\n",
      "\u001B[0;32m/usr/local/lib/python3.8/dist-packages/numpy/core/getlimits.py\u001B[0m in \u001B[0;36m__new__\u001B[0;34m(cls, dtype)\u001B[0m\n\u001B[1;32m    475\u001B[0m \u001B[0;34m\u001B[0m\u001B[0m\n\u001B[1;32m    476\u001B[0m     \u001B[0;32mdef\u001B[0m \u001B[0m__new__\u001B[0m\u001B[0;34m(\u001B[0m\u001B[0mcls\u001B[0m\u001B[0;34m,\u001B[0m \u001B[0mdtype\u001B[0m\u001B[0;34m)\u001B[0m\u001B[0;34m:\u001B[0m\u001B[0;34m\u001B[0m\u001B[0;34m\u001B[0m\u001B[0m\n\u001B[0;32m--> 477\u001B[0;31m         \u001B[0;32mtry\u001B[0m\u001B[0;34m:\u001B[0m\u001B[0;34m\u001B[0m\u001B[0;34m\u001B[0m\u001B[0m\n\u001B[0m\u001B[1;32m    478\u001B[0m             \u001B[0mdtype\u001B[0m \u001B[0;34m=\u001B[0m \u001B[0mnumeric\u001B[0m\u001B[0;34m.\u001B[0m\u001B[0mdtype\u001B[0m\u001B[0;34m(\u001B[0m\u001B[0mdtype\u001B[0m\u001B[0;34m)\u001B[0m\u001B[0;34m\u001B[0m\u001B[0;34m\u001B[0m\u001B[0m\n\u001B[1;32m    479\u001B[0m         \u001B[0;32mexcept\u001B[0m \u001B[0mTypeError\u001B[0m\u001B[0;34m:\u001B[0m\u001B[0;34m\u001B[0m\u001B[0;34m\u001B[0m\u001B[0m\n",
      "\u001B[0;31mKeyboardInterrupt\u001B[0m: "
     ]
    }
   ],
   "source": [
    "# the parameters look good\n",
    "run_genetic_algorithm_for_different_parameteres(fri,parameters)\n"
   ]
  },
  {
   "cell_type": "code",
   "execution_count": null,
   "metadata": {},
   "outputs": [],
   "source": []
  }
 ],
 "metadata": {
  "kernelspec": {
   "display_name": "Python 3",
   "language": "python",
   "name": "python3"
  },
  "language_info": {
   "codemirror_mode": {
    "name": "ipython",
    "version": 3
   },
   "file_extension": ".py",
   "mimetype": "text/x-python",
   "name": "python",
   "nbconvert_exporter": "python",
   "pygments_lexer": "ipython3",
   "version": "3.11.7"
  }
 },
 "nbformat": 4,
 "nbformat_minor": 2
}
