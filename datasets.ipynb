{
 "cells": [
  {
   "cell_type": "markdown",
   "metadata": {},
   "source": [
    "The att48.tsp.txt contains 48 cities and the minimal tour has length 33523. The p01 dataset contains 15 cities and the minimal tour has length 291. The five dataset contains five cities with minimal tour has length 19.\n",
    "We found both datasets on https://people.sc.fsu.edu/~jburkardt/datasets/tsp/tsp.html."
   ]
  },
  {
   "cell_type": "code",
   "execution_count": 5,
   "metadata": {},
   "outputs": [],
   "source": [
    "import tsplib95\n",
    "\n",
    "five = tsplib95.load('datasets/five.tsp')\n",
    "p01 = tsplib95.load('datasets/p01.tsp.txt')\n",
    "at48 = tsplib95.load('datasets/att48.tsp.txt')\n",
    "\n",
    "\n",
    "# I not know if we can take this since i think the distance matrix is not full\n",
    "#gr17 = tsplib95.load('datasets/gr17.tsp.txt')\n",
    "\n",
    "\n",
    "\n"
   ]
  },
  {
   "cell_type": "markdown",
   "metadata": {},
   "source": [
    "In the symmetric Traveling Salesman Problem, the distance between any two cities is identical in both directions. This means if you consider any two cities, say City A and City B, the distance from City A to City B is the same as from City B to City A. It's important to note that this symmetry refers specifically to the distances or costs being equal in both directions. So we consider only undirected graphs, where a full matrix specifies distances.\n",
    "\n",
    "Since we consider only problems, where the distance between each two cities are defined, so we have a full matrix, we have to check that also for the problems."
   ]
  },
  {
   "cell_type": "code",
   "execution_count": 6,
   "metadata": {},
   "outputs": [
    {
     "name": "stdout",
     "output_type": "stream",
     "text": [
      "weighted: True\n",
      "full matrix: True\n",
      "symetric False\n",
      "is_explicit: True\n",
      "special : False\n",
      "complete True\n",
      "depictable: False\n"
     ]
    }
   ],
   "source": [
    "problem = p01\n",
    "print(f\"weighted: {problem.is_weighted()}\")\n",
    "print(f\"full matrix: {problem.is_full_matrix()}\")\n",
    "print(F\"symetric {problem.is_symmetric()}\")\n",
    "print(f\"is_explicit: {problem.is_explicit()}\")\n",
    "# Check whether the problem is special., SPECIAL problems require a special distance function\n",
    "print(f\"special : {problem.is_special()}\")\n",
    "print(f\"complete {problem.is_complete()}\")\n",
    "# A problem is depictable if it has display data or has node coordinates and does not specify NO_DISPLAY\n",
    "print(f\"depictable: {problem.is_depictable()}\")\n",
    "\n"
   ]
  },
  {
   "cell_type": "markdown",
   "metadata": {},
   "source": [
    "It has has full matrix and specifies a full graph. We assume that since the distance matrix is full, that the problem has a city A and B, where the distance form A to B is different to B to A, but we could not see this when looking at the file. We think the problem is also symmetric."
   ]
  },
  {
   "cell_type": "code",
   "execution_count": 7,
   "metadata": {},
   "outputs": [
    {
     "name": "stdout",
     "output_type": "stream",
     "text": [
      "weighted: True\n",
      "full matrix: False\n",
      "symetric True\n",
      "is_explicit: False\n",
      "special : False\n",
      "complete True\n",
      "depictable: True\n"
     ]
    }
   ],
   "source": [
    "problem = at48\n",
    "print(f\"weighted: {problem.is_weighted()}\")\n",
    "print(f\"full matrix: {problem.is_full_matrix()}\")\n",
    "print(F\"symetric {problem.is_symmetric()}\")\n",
    "print(f\"is_explicit: {problem.is_explicit()}\")\n",
    "# Check whether the problem is special., SPECIAL problems require a special distance function\n",
    "print(f\"special : {problem.is_special()}\")\n",
    "print(f\"complete {problem.is_complete()}\")\n",
    "# A problem is depictable if it has display data or has node coordinates and does not specify NO_DISPLAY\n",
    "print(f\"depictable: {problem.is_depictable()}\")"
   ]
  },
  {
   "cell_type": "markdown",
   "metadata": {},
   "source": [
    "We looked also here in the file of the problem, there are only coordinates of the points specified and no distances. So we assume that tsplib calculates the distance between of the coordinate. So we can use it also, since is has a full matrix of distances."
   ]
  },
  {
   "cell_type": "code",
   "execution_count": 8,
   "metadata": {},
   "outputs": [
    {
     "name": "stdout",
     "output_type": "stream",
     "text": [
      "weighted: True\n",
      "full matrix: True\n",
      "symetric False\n",
      "is_explicit: True\n",
      "special : False\n",
      "complete True\n",
      "depictable: False\n"
     ]
    }
   ],
   "source": [
    "problem = five\n",
    "print(f\"weighted: {problem.is_weighted()}\")\n",
    "print(f\"full matrix: {problem.is_full_matrix()}\")\n",
    "print(F\"symetric {problem.is_symmetric()}\")\n",
    "print(f\"is_explicit: {problem.is_explicit()}\")\n",
    "# Check whether the problem is special., SPECIAL problems require a special distance function\n",
    "print(f\"special : {problem.is_special()}\")\n",
    "print(f\"complete {problem.is_complete()}\")\n",
    "# A problem is depictable if it has display data or has node coordinates and does not specify NO_DISPLAY\n",
    "print(f\"depictable: {problem.is_depictable()}\")"
   ]
  },
  {
   "cell_type": "markdown",
   "metadata": {},
   "source": [
    "When looking in the correpsonding file, we can see it has a full distance matrix and is also specified"
   ]
  }
 ],
 "metadata": {
  "kernelspec": {
   "display_name": "Python 3",
   "language": "python",
   "name": "python3"
  },
  "language_info": {
   "codemirror_mode": {
    "name": "ipython",
    "version": 3
   },
   "file_extension": ".py",
   "mimetype": "text/x-python",
   "name": "python",
   "nbconvert_exporter": "python",
   "pygments_lexer": "ipython3",
   "version": "3.11.7"
  }
 },
 "nbformat": 4,
 "nbformat_minor": 2
}
