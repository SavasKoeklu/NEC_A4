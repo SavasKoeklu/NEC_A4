{
 "cells": [
  {
   "cell_type": "code",
   "execution_count": 18,
   "metadata": {},
   "outputs": [],
   "source": [
    "import tsplib95\n",
    "\n",
    "problem = tsplib95.load('datasets/gr17.tsp.txt')"
   ]
  },
  {
   "cell_type": "markdown",
   "metadata": {},
   "source": [
    "The att84.tsp.txt contains 48 cities and the minimal tour has length 33523. The gr17 dataset contains 17 cities and the minimal tour has length 2085.\n",
    "We found both datasets on https://people.sc.fsu.edu/~jburkardt/datasets/tsp/tsp.html."
   ]
  },
  {
   "cell_type": "code",
   "execution_count": 19,
   "metadata": {},
   "outputs": [
    {
     "data": {
      "text/plain": [
       "[0, 1, 2, 3, 4, 5, 6, 7, 8, 9, 10, 11, 12, 13, 14, 15, 16]"
      ]
     },
     "execution_count": 19,
     "metadata": {},
     "output_type": "execute_result"
    }
   ],
   "source": [
    "list(problem.get_nodes())"
   ]
  },
  {
   "cell_type": "code",
   "execution_count": 20,
   "metadata": {},
   "outputs": [
    {
     "data": {
      "text/plain": [
       "289"
      ]
     },
     "execution_count": 20,
     "metadata": {},
     "output_type": "execute_result"
    }
   ],
   "source": [
    "len(list(problem.get_edges())) "
   ]
  },
  {
   "cell_type": "code",
   "execution_count": 21,
   "metadata": {},
   "outputs": [
    {
     "data": {
      "text/plain": [
       "(0, 0)"
      ]
     },
     "execution_count": 21,
     "metadata": {},
     "output_type": "execute_result"
    }
   ],
   "source": [
    "list(problem.get_edges())[0]"
   ]
  },
  {
   "cell_type": "code",
   "execution_count": 46,
   "metadata": {},
   "outputs": [
    {
     "name": "stdout",
     "output_type": "stream",
     "text": [
      "282\n"
     ]
    }
   ],
   "source": [
    "print(problem.get_weight(10,1))"
   ]
  },
  {
   "cell_type": "code",
   "execution_count": 45,
   "metadata": {},
   "outputs": [
    {
     "name": "stdout",
     "output_type": "stream",
     "text": [
      "282\n",
      "weighted: True\n",
      "full matrix: False\n",
      "symetric True\n",
      "is_explicit: True\n",
      "special : False\n",
      "complete True\n",
      "depictable: False\n"
     ]
    }
   ],
   "source": [
    "# look at the characteristics of the problem\n",
    "\n",
    "print(f\"weighted: {problem.is_weighted()}\")\n",
    "print(f\"full matrix: {problem.is_full_matrix()}\")\n",
    "print(F\"symetric {problem.is_symmetric()}\")\n",
    "print(f\"is_explicit: {problem.is_explicit()}\")\n",
    "# Check whether the problem is special., SPECIAL problems require a special distance function\n",
    "print(f\"special : {problem.is_special()}\")\n",
    "print(f\"complete {problem.is_complete()}\")\n",
    "# A problem is depictable if it has display data or has node coordinates and does not specify NO_DISPLAY\n",
    "print(f\"depictable: {problem.is_depictable()}\")"
   ]
  },
  {
   "cell_type": "code",
   "execution_count": 34,
   "metadata": {},
   "outputs": [
    {
     "data": {
      "text/plain": [
       "{'coord': None, 'display': None, 'demand': None, 'is_depot': False}"
      ]
     },
     "execution_count": 34,
     "metadata": {},
     "output_type": "execute_result"
    }
   ],
   "source": [
    "# They not saved coordinates\n",
    "G = problem.get_graph()\n",
    "G.nodes[1]"
   ]
  },
  {
   "cell_type": "code",
   "execution_count": null,
   "metadata": {},
   "outputs": [],
   "source": []
  }
 ],
 "metadata": {
  "kernelspec": {
   "display_name": "Python 3",
   "language": "python",
   "name": "python3"
  },
  "language_info": {
   "codemirror_mode": {
    "name": "ipython",
    "version": 3
   },
   "file_extension": ".py",
   "mimetype": "text/x-python",
   "name": "python",
   "nbconvert_exporter": "python",
   "pygments_lexer": "ipython3",
   "version": "3.11.7"
  }
 },
 "nbformat": 4,
 "nbformat_minor": 2
}
